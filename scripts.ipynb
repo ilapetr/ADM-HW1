{
 "cells": [
  {
   "cell_type": "markdown",
   "id": "58077ea9",
   "metadata": {},
   "source": [
    "Hackerrank Exercises"
   ]
  },
  {
   "cell_type": "markdown",
   "id": "49820347",
   "metadata": {},
   "source": [
    "Introduction"
   ]
  },
  {
   "cell_type": "markdown",
   "id": "dc58b726",
   "metadata": {},
   "source": [
    "Say \"Hello, World!\" With Python"
   ]
  },
  {
   "cell_type": "code",
   "execution_count": null,
   "id": "ffeed763",
   "metadata": {},
   "outputs": [],
   "source": [
    "if __name__ == '__main__':\n",
    "    print(\"Hello, World!\")"
   ]
  },
  {
   "cell_type": "markdown",
   "id": "50869bc6",
   "metadata": {},
   "source": [
    "Python If-Else"
   ]
  },
  {
   "cell_type": "code",
   "execution_count": null,
   "id": "5877ff61",
   "metadata": {},
   "outputs": [],
   "source": [
    "#!/bin/python3\n",
    "\n",
    "import math\n",
    "import os\n",
    "import random\n",
    "import re\n",
    "import sys\n",
    "\n",
    "\n",
    "\n",
    "if __name__ == '__main__':\n",
    "    n = int(input().strip())\n",
    "    if n==1:\n",
    "        print(\"Weird\")\n",
    "    if n%2==0:\n",
    "        if 2<=n<=5 or n>20:\n",
    "            print (\"Not Weird\")   \n",
    "        if 6<=n<=20:\n",
    "            print(\"Weird\")\n",
    "    else: \n",
    "        print(\"Weird\")       \n"
   ]
  },
  {
   "cell_type": "markdown",
   "id": "6ff78eb0",
   "metadata": {},
   "source": [
    "Arithmetic Operators"
   ]
  },
  {
   "cell_type": "code",
   "execution_count": null,
   "id": "e5f3ad57",
   "metadata": {},
   "outputs": [],
   "source": [
    "if __name__ == '__main__':\n",
    "    a = int(input())\n",
    "    b = int(input())\n",
    "    print(a+b)\n",
    "    print(a-b)\n",
    "    print(a*b)"
   ]
  },
  {
   "cell_type": "markdown",
   "id": "c948ca36",
   "metadata": {},
   "source": [
    "Python: Division"
   ]
  },
  {
   "cell_type": "code",
   "execution_count": null,
   "id": "f757b541",
   "metadata": {},
   "outputs": [],
   "source": [
    "if __name__ == '__main__':\n",
    "    a = int(input())\n",
    "    b = int(input())\n",
    "    print(a//b)\n",
    "    print(a/b)"
   ]
  },
  {
   "cell_type": "markdown",
   "id": "9c1dc05f",
   "metadata": {},
   "source": [
    "Loops"
   ]
  },
  {
   "cell_type": "code",
   "execution_count": null,
   "id": "331889d2",
   "metadata": {},
   "outputs": [],
   "source": [
    "if __name__ == '__main__':\n",
    "    n = int(input())\n",
    "    i=0\n",
    "    while i<n:\n",
    "        p=i**2\n",
    "        i=i+1\n",
    "        print(p)"
   ]
  },
  {
   "cell_type": "markdown",
   "id": "02b9c4b5",
   "metadata": {},
   "source": [
    "Write a function"
   ]
  },
  {
   "cell_type": "code",
   "execution_count": null,
   "id": "a0a0a3d2",
   "metadata": {},
   "outputs": [],
   "source": [
    "def is_leap(year):\n",
    "    leap=False\n",
    "    if year%4==0 and year%100!=0:\n",
    "        leap = True\n",
    "    if year%4==0 and year%100==0 and year%400==0:\n",
    "        leap=True    \n",
    "    return(leap)"
   ]
  },
  {
   "cell_type": "markdown",
   "id": "ef437f63",
   "metadata": {},
   "source": [
    "Print Function"
   ]
  },
  {
   "cell_type": "code",
   "execution_count": null,
   "id": "01fe7183",
   "metadata": {},
   "outputs": [],
   "source": [
    "if __name__ == '__main__':\n",
    "    n = int(input())\n",
    "    i=0\n",
    "    while i < n:\n",
    "        i+=1\n",
    "        print(i, end = \"\")"
   ]
  },
  {
   "cell_type": "markdown",
   "id": "016477ad",
   "metadata": {},
   "source": [
    "Basic Data Types"
   ]
  },
  {
   "cell_type": "markdown",
   "id": "96de7449",
   "metadata": {},
   "source": [
    "List Comprehensions"
   ]
  },
  {
   "cell_type": "code",
   "execution_count": null,
   "id": "b768f5d9",
   "metadata": {},
   "outputs": [],
   "source": [
    "if __name__ == '__main__':\n",
    "    x = int(input())\n",
    "    y = int(input())\n",
    "    z = int(input())\n",
    "    n = int(input())\n",
    "    li=[]\n",
    "    le=[]\n",
    "    for i in range(0,x+1):\n",
    "        for j in range(0,y+1):\n",
    "            for k in range(0,z+1):\n",
    "                li=[i,j,k] \n",
    "                s=i+j+k\n",
    "                if s!=n:\n",
    "                    le.append(li)        \n",
    "    print(le)    "
   ]
  },
  {
   "cell_type": "markdown",
   "id": "d0a67d12",
   "metadata": {},
   "source": [
    "Find the Runner-Up Score!"
   ]
  },
  {
   "cell_type": "code",
   "execution_count": null,
   "id": "791ee1f8",
   "metadata": {},
   "outputs": [],
   "source": [
    "if __name__ == '__main__':\n",
    "    n = int(input())\n",
    "    arr = set(map(int, input().split()))\n",
    "    m=max(arr)\n",
    "    arr.remove(m)\n",
    "    print(max(arr))"
   ]
  },
  {
   "cell_type": "markdown",
   "id": "e146f724",
   "metadata": {},
   "source": [
    "Nested Lists "
   ]
  },
  {
   "cell_type": "code",
   "execution_count": null,
   "id": "8026859f",
   "metadata": {},
   "outputs": [],
   "source": [
    "if __name__ == '__main__':\n",
    "    from collections import Counter, OrderedDict\n",
    "    l=[]\n",
    "    ls=[]\n",
    "    ln=[]\n",
    "    for _ in range(int(input())):\n",
    "        name = input()\n",
    "        score = float(input())\n",
    "        l.append([name, score])\n",
    "        ls.append(score)\n",
    "    l.sort(key=lambda x:x[1])\n",
    "    ls.sort()\n",
    "    counter=Counter(ls)\n",
    "    oc=OrderedDict(counter)\n",
    "    if len(oc)==1:\n",
    "        m=oc[1]\n",
    "    else:\n",
    "        for i in oc:\n",
    "            if oc[i]>1:\n",
    "                for _ in range(oc[i]-1):\n",
    "                    ls.remove(i)\n",
    "        m=ls[1]\n",
    "    for j in l:\n",
    "        if j[1]==m:\n",
    "            ln.append(j[0])\n",
    "    ln.sort()\n",
    "    for k in ln:\n",
    "        print(k)"
   ]
  },
  {
   "cell_type": "markdown",
   "id": "855f9b49",
   "metadata": {},
   "source": [
    "Finding the percentage"
   ]
  },
  {
   "cell_type": "code",
   "execution_count": null,
   "id": "61b29bec",
   "metadata": {},
   "outputs": [],
   "source": [
    "if __name__ == '__main__':\n",
    "    from collections import defaultdict, OrderedDict\n",
    "    n = int(input())\n",
    "    d=defaultdict(list)\n",
    "    for _ in range(n):\n",
    "        l=list(input().split())\n",
    "        name=l[0]\n",
    "        lm=l[1:4]\n",
    "        lm=list(map(float, lm))\n",
    "        d[name]=lm\n",
    "    n=input()\n",
    "    for i in d.items():\n",
    "        if i[0]==n:\n",
    "            marks=i[1]\n",
    "    print(\"{:.2f}\".format(sum(marks)/3))"
   ]
  },
  {
   "cell_type": "markdown",
   "id": "62f887d9",
   "metadata": {},
   "source": [
    "Lists"
   ]
  },
  {
   "cell_type": "code",
   "execution_count": null,
   "id": "3ba3f6a1",
   "metadata": {},
   "outputs": [],
   "source": [
    "if __name__ == '__main__':\n",
    "    N = int(input())\n",
    "    l=[]\n",
    "    for i in range(0,N):\n",
    "        e=input().split()\n",
    "        if e[0]==\"insert\":\n",
    "            l.insert(int(e[1]), int(e[2]))\n",
    "        elif e[0]==\"print\":\n",
    "            print(l)\n",
    "        elif e[0]==\"remove\":\n",
    "            l.remove(int(e[1]))\n",
    "        elif e[0]==\"append\":\n",
    "            l.append(int(e[1]))\n",
    "        elif e[0]==\"sort\":\n",
    "            l.sort()\n",
    "        elif e[0]==\"pop\":\n",
    "            l.pop()\n",
    "        elif e[0]==\"reverse\":\n",
    "            l.reverse()  "
   ]
  },
  {
   "cell_type": "markdown",
   "id": "0eb3d14f",
   "metadata": {},
   "source": [
    "Tuples"
   ]
  },
  {
   "cell_type": "code",
   "execution_count": null,
   "id": "be54ab74",
   "metadata": {},
   "outputs": [],
   "source": [
    "if __name__ == '__main__':\n",
    "    n = int(input())\n",
    "    integer_list = map(int, input().split())\n",
    "    t=tuple(integer_list)\n",
    "    print(hash(t))"
   ]
  },
  {
   "cell_type": "markdown",
   "id": "97b77c78",
   "metadata": {},
   "source": [
    "Strings"
   ]
  },
  {
   "cell_type": "markdown",
   "id": "331dd1e2",
   "metadata": {},
   "source": [
    "sWAP cASE"
   ]
  },
  {
   "cell_type": "code",
   "execution_count": null,
   "id": "3c9e2a92",
   "metadata": {},
   "outputs": [],
   "source": [
    "def swap_case(s):\n",
    "    l=list(s)\n",
    "    s_new=list()\n",
    "    for i in range(len(l)):\n",
    "        if l[i].isupper() == True:\n",
    "            s_new.append(s[i].lower())\n",
    "        else:\n",
    "            s_new.append(s[i].upper())\n",
    "    a=\"\".join(s_new)\n",
    "    return(a)"
   ]
  },
  {
   "cell_type": "markdown",
   "id": "a7e95d9c",
   "metadata": {},
   "source": [
    "String Split and Join"
   ]
  },
  {
   "cell_type": "code",
   "execution_count": null,
   "id": "a079cee0",
   "metadata": {},
   "outputs": [],
   "source": [
    "def split_and_join(line):\n",
    "    x=line.split(\" \")\n",
    "    j=\"-\".join(x)\n",
    "    return(j)"
   ]
  },
  {
   "cell_type": "markdown",
   "id": "77ae0bb7",
   "metadata": {},
   "source": [
    "What's Your Name?"
   ]
  },
  {
   "cell_type": "code",
   "execution_count": null,
   "id": "ac2d50ab",
   "metadata": {},
   "outputs": [],
   "source": [
    "#\n",
    "# Complete the 'print_full_name' function below.\n",
    "#\n",
    "# The function is expected to return a STRING.\n",
    "# The function accepts following parameters:\n",
    "#  1. STRING first\n",
    "#  2. STRING last\n",
    "#\n",
    "\n",
    "def print_full_name(first, last):\n",
    "    s=\"Hello firstname lastname! You just delved into python.\"\n",
    "    l=s.split(\" \")\n",
    "    l[1]=first_name\n",
    "    l[2]=last_name+\"!\"\n",
    "    a=\" \".join(l)\n",
    "    print(a)"
   ]
  },
  {
   "cell_type": "markdown",
   "id": "9fb151f1",
   "metadata": {},
   "source": [
    "Mutations"
   ]
  },
  {
   "cell_type": "code",
   "execution_count": null,
   "id": "8c1e79fd",
   "metadata": {},
   "outputs": [],
   "source": [
    "def mutate_string(string, position, character):\n",
    "    s_new=s[:int(i)]+c+s[(int(i)+1):]\n",
    "    return(s_new)"
   ]
  },
  {
   "cell_type": "markdown",
   "id": "35dbf8b0",
   "metadata": {},
   "source": [
    "Find a string"
   ]
  },
  {
   "cell_type": "code",
   "execution_count": null,
   "id": "f2467614",
   "metadata": {},
   "outputs": [],
   "source": [
    "def count_substring(string, sub_string):\n",
    "    count=0\n",
    "    x=len(sub_string)-1\n",
    "    for i in range (0, (len(string)- x)):\n",
    "        a=string[i:i+len(sub_string)]\n",
    "        if a==sub_string:\n",
    "            count+=1\n",
    "    return (count)"
   ]
  },
  {
   "cell_type": "markdown",
   "id": "b66d5d72",
   "metadata": {},
   "source": [
    "String Validators"
   ]
  },
  {
   "cell_type": "code",
   "execution_count": null,
   "id": "c2b6e944",
   "metadata": {},
   "outputs": [],
   "source": [
    "if __name__ == '__main__':\n",
    "    s = input()\n",
    "    a=False\n",
    "    b=False\n",
    "    c=False\n",
    "    d=False\n",
    "    e=False\n",
    "    for i in s:\n",
    "        if i.isalnum() == True:\n",
    "            a=True\n",
    "    print(a)\n",
    "    for i in s:\n",
    "        if i.isalpha() == True:\n",
    "            b=True\n",
    "    print(b)\n",
    "    for i in s:\n",
    "        if i.isdigit() == True:\n",
    "            c=True\n",
    "    print(c)\n",
    "    for i in s:\n",
    "        if i.islower() == True:\n",
    "            d=True\n",
    "    print(d)\n",
    "    for i in s:\n",
    "        if i.isupper() == True:\n",
    "            e=True\n",
    "    print(e)"
   ]
  },
  {
   "cell_type": "markdown",
   "id": "4a98efdf",
   "metadata": {},
   "source": [
    "Text Alignment"
   ]
  },
  {
   "cell_type": "code",
   "execution_count": null,
   "id": "fc8c4aef",
   "metadata": {},
   "outputs": [],
   "source": [
    "#Replace all ______ with rjust, ljust or center. \n",
    "\n",
    "thickness = int(input()) #This must be an odd number\n",
    "c = 'H'\n",
    "\n",
    "#Top Cone\n",
    "for i in range(thickness):\n",
    "    print((c*i).rjust(thickness-1)+c+(c*i).ljust(thickness-1))\n",
    "\n",
    "#Top Pillars\n",
    "for i in range(thickness+1):\n",
    "    print((c*thickness).center(thickness*2)+(c*thickness).center(thickness*6))\n",
    "\n",
    "#Middle Belt\n",
    "for i in range((thickness+1)//2):\n",
    "    print((c*thickness*5).center(thickness*6))    \n",
    "\n",
    "#Bottom Pillars\n",
    "for i in range(thickness+1):\n",
    "    print((c*thickness).center(thickness*2)+(c*thickness).center(thickness*6))    \n",
    "\n",
    "#Bottom Cone\n",
    "for i in range(thickness):\n",
    "    print(((c*(thickness-i-1)).rjust(thickness)+c+(c*(thickness-i-1)).ljust(thickness)).rjust(thickness*6))"
   ]
  },
  {
   "cell_type": "markdown",
   "id": "675ed10e",
   "metadata": {},
   "source": [
    "Text Wrap"
   ]
  },
  {
   "cell_type": "code",
   "execution_count": null,
   "id": "6aa7ffdc",
   "metadata": {},
   "outputs": [],
   "source": [
    "def wrap(string, max_width):\n",
    "    a=textwrap.fill(string, max_width)\n",
    "    return(a)"
   ]
  },
  {
   "cell_type": "markdown",
   "id": "7d1faa5c",
   "metadata": {},
   "source": [
    "Designer Door Mat"
   ]
  },
  {
   "cell_type": "code",
   "execution_count": null,
   "id": "a9409e88",
   "metadata": {},
   "outputs": [],
   "source": [
    "n,m=map(int,input().split())\n",
    "a=[('.|.'*i).center(m,'-') for i in range(1,n,2)]\n",
    "for b in a+['WELCOME'.center(m,'-')]+list(reversed(a)):\n",
    "                print(b)"
   ]
  },
  {
   "cell_type": "markdown",
   "id": "aaebb49b",
   "metadata": {},
   "source": [
    "Alphabet Rangoli"
   ]
  },
  {
   "cell_type": "code",
   "execution_count": null,
   "id": "d21babf9",
   "metadata": {},
   "outputs": [],
   "source": [
    "def print_rangoli(size):\n",
    "    alphabet=\"abcdefghijklmnopqrstuvwxyz\"\n",
    "    sub_alph=alphabet[:size]\n",
    "    width=4*size-3\n",
    "     \n",
    "    for i in range(size):\n",
    "         print(((\"-\".join(sub_alph[-1-i:])[1:])[::-1] +  \"-\".join(sub_alph[-1-i:])).center(width,\"-\"))\n",
    " \n",
    "    for i in reversed(range(size-1)):\n",
    "        print(((\"-\".join(sub_alph[-1-i:])[1:])[::-1] +  \"-\".join(sub_alph[-1-i:])).center(width,\"-\"))\n",
    "        \n",
    "if __name__ == '__main__':\n",
    "    n = int(input())\n",
    "    print_rangoli(n)"
   ]
  },
  {
   "cell_type": "markdown",
   "id": "256b2f37",
   "metadata": {},
   "source": [
    "String Formatting"
   ]
  },
  {
   "cell_type": "code",
   "execution_count": null,
   "id": "ed98e162",
   "metadata": {},
   "outputs": [],
   "source": [
    "def print_formatted(number):\n",
    "    l1=len(bin(number)[2:])\n",
    "    for i in range(1,number+1):\n",
    "        print(str(i).rjust(l1,' '),end=\" \")\n",
    "        print(oct(i)[2:].rjust(l1,' '),end=\" \")\n",
    "        print(((hex(i)[2:]).upper()).rjust(l1,' '),end=\" \")\n",
    "        print(bin(i)[2:].rjust(l1,' '),end=\" \")\n",
    "        print(\"\")\n",
    "\n",
    "if __name__ == '__main__':\n",
    "    n = int(input())\n",
    "    print_formatted(n)"
   ]
  },
  {
   "cell_type": "markdown",
   "id": "edc3b9b2",
   "metadata": {},
   "source": [
    "Capitalize!"
   ]
  },
  {
   "cell_type": "code",
   "execution_count": null,
   "id": "525c1a23",
   "metadata": {},
   "outputs": [],
   "source": [
    "# Complete the solve function below.\n",
    "def solve(s):\n",
    "    l=s.split(\" \")\n",
    "    l1=[]\n",
    "    for i in l:\n",
    "        a=i.capitalize()\n",
    "        l1.append(a)\n",
    "    s= \" \".join(l1)\n",
    "    return(s)"
   ]
  },
  {
   "cell_type": "markdown",
   "id": "5266399c",
   "metadata": {},
   "source": [
    "The Minion Game (Success in 7/15 test cases due to memory error)"
   ]
  },
  {
   "cell_type": "code",
   "execution_count": null,
   "id": "308accd1",
   "metadata": {},
   "outputs": [],
   "source": [
    "from collections import defaultdict, OrderedDict\n",
    "def minion_game(string):\n",
    "    v=\"AEIOU\"\n",
    "    ss= [string[i: j] for i in range(len(string))\n",
    "          for j in range(i + 1, len(string) + 1)]\n",
    "    ss=list(ss)\n",
    "    d=defaultdict(int)\n",
    "    Stuart=0\n",
    "    Kevin=0\n",
    "    for k in ss:\n",
    "        d[k]+=1\n",
    "    d=OrderedDict(d)\n",
    "    for i in d:\n",
    "        if i[0] in v:\n",
    "            Kevin+=d[i]\n",
    "        else:\n",
    "            Stuart+=d[i]\n",
    "    if Stuart==Kevin:\n",
    "        print(\"Draw\")\n",
    "    elif Stuart>Kevin:\n",
    "        print(\"Stuart\", Stuart)\n",
    "    else:\n",
    "        print(\"Kevin\", Kevin)\n",
    "    \n",
    "if __name__ == '__main__':\n",
    "    s = input()\n",
    "    minion_game(s)"
   ]
  },
  {
   "cell_type": "markdown",
   "id": "e2c35ea9",
   "metadata": {},
   "source": [
    "Merge the Tools!"
   ]
  },
  {
   "cell_type": "code",
   "execution_count": null,
   "id": "ddf8412f",
   "metadata": {},
   "outputs": [],
   "source": [
    "from collections import defaultdict\n",
    "def merge_the_tools(string, k):\n",
    "    for i in range(0,len(string),k):\n",
    "        a = string[i:i+k]\n",
    "        d = defaultdict(int)\n",
    "        for j in range(len(a)):\n",
    "            d[a[j]]+=1\n",
    "        print(''.join(d.keys()))"
   ]
  },
  {
   "cell_type": "markdown",
   "id": "0e597962",
   "metadata": {},
   "source": [
    "Sets"
   ]
  },
  {
   "cell_type": "markdown",
   "id": "61d4a43a",
   "metadata": {},
   "source": [
    "Introduction to Sets"
   ]
  },
  {
   "cell_type": "code",
   "execution_count": null,
   "id": "3f93986d",
   "metadata": {},
   "outputs": [],
   "source": [
    "def average(array):\n",
    "    array=set(arr)\n",
    "    Sum = sum(array)\n",
    "    average= Sum/len(array) \n",
    "    return(average)"
   ]
  },
  {
   "cell_type": "markdown",
   "id": "ca3411a3",
   "metadata": {},
   "source": [
    "No Idea!"
   ]
  },
  {
   "cell_type": "code",
   "execution_count": null,
   "id": "1f002eb6",
   "metadata": {},
   "outputs": [],
   "source": [
    "# Enter your code here. Read input from STDIN. Print output to STDOUT\n",
    "x=list(map(int, input().split()))\n",
    "n,m= x[0], x[1]\n",
    "arr=list(map(int, input().split()))\n",
    "a=set(map(int, input().split()))\n",
    "b=set(map(int, input().split()))\n",
    "hap=0\n",
    "for i in arr:\n",
    "    if i in a:\n",
    "        hap+=1\n",
    "    elif i in b:\n",
    "        hap-=1\n",
    "print(hap)"
   ]
  },
  {
   "cell_type": "markdown",
   "id": "6138c3f5",
   "metadata": {},
   "source": [
    "Symmetric Difference"
   ]
  },
  {
   "cell_type": "code",
   "execution_count": null,
   "id": "378f1333",
   "metadata": {},
   "outputs": [],
   "source": [
    "# Enter your code here. Read input from STDIN. Print output to STDOUT\n",
    "m=int(input())\n",
    "a=set(map(int, input().split()))\n",
    "n=int(input())\n",
    "b=set(map(int, input().split()))\n",
    "d1,d2=set(a.difference(b)),set(b.difference(a))\n",
    "d1.update(d2)\n",
    "d1=list(d1)\n",
    "d1.sort()\n",
    "for i in d1:\n",
    "    print(i)"
   ]
  },
  {
   "cell_type": "markdown",
   "id": "6837646d",
   "metadata": {},
   "source": [
    "Set.add()"
   ]
  },
  {
   "cell_type": "code",
   "execution_count": null,
   "id": "a471b1c3",
   "metadata": {},
   "outputs": [],
   "source": [
    "# Enter your code here. Read input from STDIN. Print output to STDOUT\n",
    "N=int(input())\n",
    "lista_country = []\n",
    "for i in range(N):\n",
    "    lista_country.append(input())\n",
    "s=set(lista_country)\n",
    "l=len(s)\n",
    "print(l)"
   ]
  },
  {
   "cell_type": "markdown",
   "id": "b582ce2b",
   "metadata": {},
   "source": [
    "Set.discard(), .remove() & .pop()"
   ]
  },
  {
   "cell_type": "code",
   "execution_count": null,
   "id": "340536d5",
   "metadata": {},
   "outputs": [],
   "source": [
    "n = int(input())\n",
    "s = set(map(int, input().split()))\n",
    "m = int(input())\n",
    "for i in range(m):\n",
    "    com=input().split()\n",
    "    if com[0]==\"remove\":\n",
    "        s.remove(int(com[1]))\n",
    "    if com[0]==\"discard\":\n",
    "        s.discard(int(com[1]))\n",
    "    if com[0]==\"pop\":\n",
    "        s.pop()\n",
    "print(sum(s))"
   ]
  },
  {
   "cell_type": "markdown",
   "id": "ecef7a77",
   "metadata": {},
   "source": [
    "Set.union() Operation"
   ]
  },
  {
   "cell_type": "code",
   "execution_count": null,
   "id": "1e02069f",
   "metadata": {},
   "outputs": [],
   "source": [
    "# Enter your code here. Read input from STDIN. Print output to STDOUT\n",
    "n = int(input())\n",
    "se= set(map(int, input().split()))\n",
    "m = int(input())\n",
    "sf= set(map(int, input().split()))\n",
    "st=se.union(sf)\n",
    "print(len(st))"
   ]
  },
  {
   "cell_type": "markdown",
   "id": "1c17b076",
   "metadata": {},
   "source": [
    "Set .intersection() Operation"
   ]
  },
  {
   "cell_type": "code",
   "execution_count": null,
   "id": "4a91f69f",
   "metadata": {},
   "outputs": [],
   "source": [
    "# Enter your code here. Read input from STDIN. Print output to STDOUT\n",
    "n = int(input())\n",
    "se= set(map(int, input().split()))\n",
    "m = int(input())\n",
    "sf= set(map(int, input().split()))\n",
    "st=se.intersection(sf)\n",
    "print(len(st))"
   ]
  },
  {
   "cell_type": "markdown",
   "id": "b96c1074",
   "metadata": {},
   "source": [
    "Set.difference() Operation"
   ]
  },
  {
   "cell_type": "code",
   "execution_count": null,
   "id": "ed117143",
   "metadata": {},
   "outputs": [],
   "source": [
    "# Enter your code here. Read input from STDIN. Print output to STDOUT\n",
    "n = int(input())\n",
    "se= set(map(int, input().split()))\n",
    "m = int(input())\n",
    "sf= set(map(int, input().split()))\n",
    "st=se.difference(sf)\n",
    "print(len(st))"
   ]
  },
  {
   "cell_type": "markdown",
   "id": "c2429708",
   "metadata": {},
   "source": [
    "Set.symmetric_difference() Operation"
   ]
  },
  {
   "cell_type": "code",
   "execution_count": null,
   "id": "f9f21e35",
   "metadata": {},
   "outputs": [],
   "source": [
    "# Enter your code here. Read input from STDIN. Print output to STDOUT\n",
    "n = int(input())\n",
    "se= set(map(int, input().split()))\n",
    "m = int(input())\n",
    "sf= set(map(int, input().split()))\n",
    "st=se.symmetric_difference(sf)\n",
    "print(len(st))"
   ]
  },
  {
   "cell_type": "markdown",
   "id": "c1fc3b7e",
   "metadata": {},
   "source": [
    "Set Mutations"
   ]
  },
  {
   "cell_type": "code",
   "execution_count": null,
   "id": "baa23fbc",
   "metadata": {},
   "outputs": [],
   "source": [
    "# Enter your code here. Read input from STDIN. Print output to STDOUT\n",
    "n = int(input())\n",
    "sa= set(map(int, input().split()))\n",
    "m = int(input())\n",
    "for i in range(m):\n",
    "    com=input().split()\n",
    "    s= set(map(int, input().split()))\n",
    "    if com[0]==\"intersection_update\":\n",
    "        sa.intersection_update(s)\n",
    "    if com[0]==\"symmetric_difference_update\":\n",
    "        sa.symmetric_difference_update(s)\n",
    "    if com[0]==\"difference_update\":\n",
    "        sa.difference_update(s)\n",
    "    if com[0]==\"update\":\n",
    "        sa.update(s)\n",
    "print(sum(sa))"
   ]
  },
  {
   "cell_type": "markdown",
   "id": "4fd6e5a1",
   "metadata": {},
   "source": [
    "The Captain's Room"
   ]
  },
  {
   "cell_type": "code",
   "execution_count": null,
   "id": "376bb8b9",
   "metadata": {},
   "outputs": [],
   "source": [
    "# Enter your code here. Read input from STDIN. Print output to STDOUT\n",
    "n=int(input())\n",
    "l= list(map(int, input().split()))\n",
    "s=set(l)\n",
    "s=set(l)\n",
    "print(((sum(s)*n)-(sum(l)))//(n-1))"
   ]
  },
  {
   "cell_type": "markdown",
   "id": "af6bff3e",
   "metadata": {},
   "source": [
    "Check Subset"
   ]
  },
  {
   "cell_type": "code",
   "execution_count": null,
   "id": "11c68e6f",
   "metadata": {},
   "outputs": [],
   "source": [
    "# Enter your code here. Read input from STDIN. Print output to STDOUT\n",
    "x = int(input())\n",
    "for i in range(x):\n",
    "    na = int(input())\n",
    "    a= set(map(int, input().split()))\n",
    "    nb = int(input())\n",
    "    b= set(map(int, input().split()))\n",
    "    s=set()\n",
    "    s=a.intersection(b)\n",
    "    if s == a:\n",
    "        print(True)\n",
    "    else:\n",
    "        print(False)"
   ]
  },
  {
   "cell_type": "markdown",
   "id": "f96a46aa",
   "metadata": {},
   "source": [
    "Check Strict Superset"
   ]
  },
  {
   "cell_type": "code",
   "execution_count": null,
   "id": "a5bbbf4d",
   "metadata": {},
   "outputs": [],
   "source": [
    "# Enter your code here. Read input from STDIN. Print output to STDOUT\n",
    "a = set(map(int, input().split()))\n",
    "x = int(input())\n",
    "v=True\n",
    "for i in range(x):\n",
    "    b=set(map(int, input().split()))\n",
    "    if a == b:\n",
    "        v=False\n",
    "    elif a.issuperset(b) == False:\n",
    "        v=False\n",
    "print(v)"
   ]
  },
  {
   "cell_type": "markdown",
   "id": "67b772af",
   "metadata": {},
   "source": [
    "Collections"
   ]
  },
  {
   "cell_type": "markdown",
   "id": "e13d38f1",
   "metadata": {},
   "source": [
    "collections.Counter()"
   ]
  },
  {
   "cell_type": "code",
   "execution_count": null,
   "id": "50d301f9",
   "metadata": {},
   "outputs": [],
   "source": [
    "# Enter your code here. Read input from STDIN. Print output to STDOUT\n",
    "from collections import Counter\n",
    "n=int(input())\n",
    "ss=map(int, input().split())\n",
    "ss=Counter(ss)\n",
    "m=int(input())\n",
    "count=0\n",
    "for _ in range(m):\n",
    "    size, price = map(int, input().split())\n",
    "    if ss[size]>0: \n",
    "        count+=price\n",
    "        shoes[size]-=1\n",
    "print(count)"
   ]
  },
  {
   "cell_type": "markdown",
   "id": "1b6da2f0",
   "metadata": {},
   "source": [
    "DefaultDict Tutorial"
   ]
  },
  {
   "cell_type": "code",
   "execution_count": null,
   "id": "794a10b3",
   "metadata": {},
   "outputs": [],
   "source": [
    "# Enter your code here. Read input from STDIN. Print output to STDOUT\n",
    "from collections import defaultdict\n",
    "n,m=map(int,input().split())\n",
    "d=defaultdict(list)\n",
    "for i in range(n):\n",
    "    s=input()\n",
    "    d[s].append(i+1)\n",
    "for _ in range(m):\n",
    "    s=input()\n",
    "    if s in d:\n",
    "        print(\" \".join(map(str,d[s])))\n",
    "    else:\n",
    "        print('-1')"
   ]
  },
  {
   "cell_type": "markdown",
   "id": "058d7ee2",
   "metadata": {},
   "source": [
    "Collections.namedtuple()"
   ]
  },
  {
   "cell_type": "code",
   "execution_count": null,
   "id": "a91ad24b",
   "metadata": {},
   "outputs": [],
   "source": [
    "# Enter your code here. Read input from STDIN. Print output to STDOUT\n",
    "from collections import namedtuple\n",
    "n=int(input())\n",
    "s=namedtuple(\"s\",\",\".join(input().split()))\n",
    "c=0\n",
    "for _ in range(n):\n",
    "    ss = s(*input().split())\n",
    "    c +=int(ss.MARKS)\n",
    "print(c/n)"
   ]
  },
  {
   "cell_type": "markdown",
   "id": "10cf548e",
   "metadata": {},
   "source": [
    "Collections.OrderedDict()"
   ]
  },
  {
   "cell_type": "code",
   "execution_count": null,
   "id": "cf10988f",
   "metadata": {},
   "outputs": [],
   "source": [
    "# Enter your code here. Read input from STDIN. Print output to STDOUT\n",
    "from collections import OrderedDict, defaultdict\n",
    "n=int(input())\n",
    "d=defaultdict(int)\n",
    "for _ in range(n):\n",
    "    a=input().split(\" \")\n",
    "    price=int(a[-1])\n",
    "    item=\" \".join(a[:-1])\n",
    "    d[item]+=price\n",
    "d=OrderedDict(d)\n",
    "for i in d.items():\n",
    "    print(i[0], i[1])"
   ]
  },
  {
   "cell_type": "markdown",
   "id": "87579b5c",
   "metadata": {},
   "source": [
    "Word Order"
   ]
  },
  {
   "cell_type": "code",
   "execution_count": null,
   "id": "557f581a",
   "metadata": {},
   "outputs": [],
   "source": [
    "# Enter your code here. Read input from STDIN. Print output to STDOUT\n",
    "from collections import Counter, OrderedDict, defaultdict\n",
    "n=int(input())\n",
    "d=defaultdict(int)\n",
    "for i in range(n):\n",
    "    s=input()\n",
    "    d[s]+=1\n",
    "d=OrderedDict(d)\n",
    "print(len(d.keys()))\n",
    "for j in d.items():\n",
    "    print(j[1], end=\" \")"
   ]
  },
  {
   "cell_type": "markdown",
   "id": "6c2247c2",
   "metadata": {},
   "source": [
    "Collections.deque()"
   ]
  },
  {
   "cell_type": "code",
   "execution_count": null,
   "id": "ee904296",
   "metadata": {},
   "outputs": [],
   "source": [
    "# Enter your code here. Read input from STDIN. Print output to STDOUT\n",
    "from collections import deque\n",
    "n=int(input())\n",
    "d=deque()\n",
    "for _ in range(n):\n",
    "    x=input().split()\n",
    "    if x[0]==\"append\":\n",
    "        d.append(x[1])\n",
    "    if x[0]==\"appendleft\":\n",
    "        d.appendleft(x[1])\n",
    "    if x[0]==\"pop\":\n",
    "        d.pop()\n",
    "    if x[0]==\"popleft\":\n",
    "        d.popleft()\n",
    "d=\" \".join(d)\n",
    "print(d)      "
   ]
  },
  {
   "cell_type": "markdown",
   "id": "e358f21f",
   "metadata": {},
   "source": [
    "Company Logo"
   ]
  },
  {
   "cell_type": "code",
   "execution_count": null,
   "id": "5a4fd7ce",
   "metadata": {},
   "outputs": [],
   "source": [
    "#!/bin/python3\n",
    "\n",
    "import math\n",
    "import os\n",
    "import random\n",
    "import re\n",
    "import sys\n",
    "from collections import defaultdict, OrderedDict, Counter\n",
    "import operator\n",
    "\n",
    "\n",
    "\n",
    "if __name__ == '__main__':\n",
    "    s = input()\n",
    "\n",
    "    s=list(s)\n",
    "    s.sort()\n",
    "    s=\"\".join(s)\n",
    "    d=defaultdict(int)\n",
    "    for i in s:\n",
    "        d[i]+=1\n",
    "    d=OrderedDict(d)\n",
    "    ds=sorted(d.items(), key=operator.itemgetter(1),reverse=True)\n",
    "    for _ in range(len(ds)-3):\n",
    "        ds.pop()\n",
    "    for i in ds:\n",
    "        print(i[0], i[1])"
   ]
  },
  {
   "cell_type": "markdown",
   "id": "bfb0f812",
   "metadata": {},
   "source": [
    "Piling Up!"
   ]
  },
  {
   "cell_type": "code",
   "execution_count": null,
   "id": "aa9c7fd5",
   "metadata": {},
   "outputs": [],
   "source": [
    "# Enter your code here. Read input from STDIN. Print output to STDOUT\n",
    "from collections import deque\n",
    "n=int(input())\n",
    "for _ in range(n):\n",
    "    a=True\n",
    "    m=int(input())\n",
    "    d=deque(map(int, input().split()))\n",
    "    if d[0]>=d[-1]:\n",
    "        ms=d.popleft()\n",
    "    else:\n",
    "        ms=d.pop()\n",
    "    while d:\n",
    "        if len(d)==1:\n",
    "            if d[0]<=ms:\n",
    "                break\n",
    "            else:\n",
    "                a=False\n",
    "                break\n",
    "        else:\n",
    "            if d[0]<=ms and d[-1]<=ms:\n",
    "                if d[0]>=d[-1]:\n",
    "                    ms=d.popleft()\n",
    "                else:\n",
    "                    ms=d.pop()\n",
    "            elif d[0]<=ms:\n",
    "                ms=d.popleft()\n",
    "            elif d[-1]<=ms:\n",
    "                ms=d.pop()\n",
    "            else:\n",
    "                a=False\n",
    "                break\n",
    "    if a==True:\n",
    "        print (\"Yes\")\n",
    "    else:\n",
    "        print (\"No\")"
   ]
  },
  {
   "cell_type": "markdown",
   "id": "6cc336bd",
   "metadata": {},
   "source": [
    "Date and Time"
   ]
  },
  {
   "cell_type": "markdown",
   "id": "55d448b7",
   "metadata": {},
   "source": [
    "Calendar Module"
   ]
  },
  {
   "cell_type": "code",
   "execution_count": null,
   "id": "49be07c5",
   "metadata": {},
   "outputs": [],
   "source": [
    "# Enter your code here. Read input from STDIN. Print output to STDOUT\n",
    "import calendar\n",
    "l=list(map(int, input().split()))\n",
    "a, b, c = l[0], l[1], l[2]\n",
    "x=calendar.weekday(c,a,b)\n",
    "if x == 0:\n",
    "    print(\"MONDAY\")\n",
    "elif x == 1:\n",
    "    print(\"TUESDAY\")\n",
    "elif x == 2:\n",
    "    print(\"WEDNESDAY\")\n",
    "elif x == 3:\n",
    "    print(\"THURSDAY\")\n",
    "elif x == 4:\n",
    "    print(\"FRIDAY\")\n",
    "elif x == 5:\n",
    "    print(\"SATURDAY\")\n",
    "elif x == 6:\n",
    "    print(\"SUNDAY\")"
   ]
  },
  {
   "cell_type": "markdown",
   "id": "6d52f53d",
   "metadata": {},
   "source": [
    "Time Delta (I consulted Hackerrank discussion section)"
   ]
  },
  {
   "cell_type": "code",
   "execution_count": null,
   "id": "0a7f8eb1",
   "metadata": {},
   "outputs": [],
   "source": [
    "#!/bin/python3\n",
    "\n",
    "import math\n",
    "import os\n",
    "import random\n",
    "import re\n",
    "import sys\n",
    "from datetime import datetime\n",
    "# Complete the time_delta function below.\n",
    "def time_delta(t1, t2):\n",
    "\n",
    "    t1=datetime.strptime(t1, \"%a %d %b %Y %X %z\")\n",
    "    t2= datetime.strptime(t2, \"%a %d %b %Y %X %z\")\n",
    "    r=int(abs((t1 - t2).total_seconds()))\n",
    "    return str(r)\n",
    "\n",
    "if __name__ == '__main__':\n",
    "    fptr = open(os.environ['OUTPUT_PATH'], 'w')\n",
    "\n",
    "    t = int(input())\n",
    "\n",
    "    for t_itr in range(t):\n",
    "        t1 = input()\n",
    "\n",
    "        t2 = input()\n",
    "\n",
    "        delta = time_delta(t1, t2)\n",
    "\n",
    "        fptr.write(delta + '\\n')\n",
    "\n",
    "    fptr.close()"
   ]
  },
  {
   "cell_type": "markdown",
   "id": "dbd38384",
   "metadata": {},
   "source": [
    "Errors and Exceptions"
   ]
  },
  {
   "cell_type": "markdown",
   "id": "cbf158de",
   "metadata": {},
   "source": [
    "Exceptions"
   ]
  },
  {
   "cell_type": "code",
   "execution_count": null,
   "id": "d3b4715d",
   "metadata": {},
   "outputs": [],
   "source": [
    "# Enter your code here. Read input from STDIN. Print output to STDOUT\n",
    "n=int(input())\n",
    "for _ in range(n):\n",
    "    l=list(map(str, input().split()))\n",
    "    a=l[0] \n",
    "    b=l[1]\n",
    "    try:\n",
    "        print(int(int(a)//int(b)))\n",
    "    except ZeroDivisionError as e:\n",
    "        print( \"Error Code:\", e)\n",
    "    except ValueError as e:\n",
    "        print( \"Error Code:\", e)"
   ]
  },
  {
   "cell_type": "markdown",
   "id": "cf4a3d7e",
   "metadata": {},
   "source": [
    "Python Functionals"
   ]
  },
  {
   "cell_type": "markdown",
   "id": "6779aee2",
   "metadata": {},
   "source": [
    "Map and Lambda Function"
   ]
  },
  {
   "cell_type": "code",
   "execution_count": null,
   "id": "01d14cf3",
   "metadata": {},
   "outputs": [],
   "source": [
    "cube = lambda x: x**3 # complete the lambda function \n",
    "\n",
    "def fibonacci(n):\n",
    "    a=0 # return a list of fibonacci numbers\n",
    "    b=1\n",
    "    l=[]\n",
    "    l.append(a)\n",
    "    l.append(b)\n",
    "    if n==0:\n",
    "        return([])\n",
    "    if n==1:\n",
    "        return([0])\n",
    "    else:\n",
    "        for _ in range(n-2):\n",
    "            c=a+b\n",
    "            a=b\n",
    "            b=c\n",
    "            l.append(c)\n",
    "    return(l)"
   ]
  },
  {
   "cell_type": "markdown",
   "id": "9479de46",
   "metadata": {},
   "source": [
    "Built-ins"
   ]
  },
  {
   "cell_type": "markdown",
   "id": "0a047571",
   "metadata": {},
   "source": [
    "Zipped!"
   ]
  },
  {
   "cell_type": "code",
   "execution_count": null,
   "id": "16a63253",
   "metadata": {},
   "outputs": [],
   "source": [
    "# Enter your code here. Read input from STDIN. Print output to STDOUT\n",
    "n, x=map(int, input().split()) \n",
    "l=[]\n",
    "for _ in range(x):\n",
    "    l.append( map(float, input().split()) ) \n",
    "for i in zip(*l): \n",
    "    print( sum(i)/len(i) )"
   ]
  },
  {
   "cell_type": "markdown",
   "id": "5641325d",
   "metadata": {},
   "source": [
    "Athlete sort(python-sort-sort)"
   ]
  },
  {
   "cell_type": "code",
   "execution_count": null,
   "id": "bd8345cd",
   "metadata": {},
   "outputs": [],
   "source": [
    "#!/bin/python3\n",
    "\n",
    "import math\n",
    "import os\n",
    "import random\n",
    "import re\n",
    "import sys\n",
    "from collections import defaultdict\n",
    "d=defaultdict(list)\n",
    "def athlete(nm):\n",
    "    for _ in range(n):\n",
    "        d[\"k\"].append(arr[k])\n",
    "    d[\"k\"].sort()\n",
    "    return(d[\"k\"])\n",
    "        \n",
    "    \n",
    "\n",
    "\n",
    "if __name__ == '__main__':\n",
    "    nm = input().split()\n",
    "\n",
    "    n = int(nm[0])\n",
    "\n",
    "    m = int(nm[1])\n",
    "\n",
    "    arr = []\n",
    "\n",
    "    for _ in range(n):\n",
    "        arr.append(list(map(int, input().rstrip().split())))\n",
    "\n",
    "    k = int(input())\n",
    "    sa=sorted(arr, key= lambda x:x[k])\n",
    "    for j in sa:\n",
    "         print(\" \".join(map(str,j)))    "
   ]
  },
  {
   "cell_type": "markdown",
   "id": "8bccbeb6",
   "metadata": {},
   "source": [
    "ginortS"
   ]
  },
  {
   "cell_type": "code",
   "execution_count": null,
   "id": "07258759",
   "metadata": {},
   "outputs": [],
   "source": [
    "# Enter your code here. Read input from STDIN. Print output to STDOUT\n",
    "s=input()\n",
    "l=list(s)\n",
    "np=[]\n",
    "nd=[]\n",
    "ul=[]\n",
    "ll=[]\n",
    "for i in range(len(l)):\n",
    "    if l[i].isdigit()==True:\n",
    "        if int(l[i])%2==0:\n",
    "            np.append(l[i])\n",
    "        else:\n",
    "            nd.append(l[i])\n",
    "    elif l[i].islower()==True:\n",
    "        ll.append(l[i])\n",
    "    else:\n",
    "        ul.append(l[i])\n",
    "np.sort()\n",
    "nd.sort()\n",
    "ll.sort()\n",
    "ul.sort()\n",
    "np=\"\".join(np)\n",
    "nd=\"\".join(nd)            \n",
    "ll=\"\".join(ll)\n",
    "ul=\"\".join(ul)\n",
    "fs=ll+ul+nd+np\n",
    "print(fs)"
   ]
  },
  {
   "cell_type": "markdown",
   "id": "b14ffb49",
   "metadata": {},
   "source": [
    "Regex and Parsing"
   ]
  },
  {
   "cell_type": "markdown",
   "id": "c04ba4d4",
   "metadata": {},
   "source": [
    "Re.split()"
   ]
  },
  {
   "cell_type": "code",
   "execution_count": null,
   "id": "80f45d1f",
   "metadata": {},
   "outputs": [],
   "source": [
    "regex_pattern =r\"[,.]+\"\n",
    "\n",
    "import re\n",
    "print(\"\\n\".join(re.split(regex_pattern, input())))"
   ]
  },
  {
   "cell_type": "markdown",
   "id": "fe89f4cb",
   "metadata": {},
   "source": [
    "Detect Floating Point Number"
   ]
  },
  {
   "cell_type": "code",
   "execution_count": null,
   "id": "06d7b443",
   "metadata": {},
   "outputs": [],
   "source": [
    "import re\n",
    "n=int(input())\n",
    "for i in range(n):\n",
    "    s=input()\n",
    "    print(bool(re.search(r\"^[+-]?\\d*\\.\\d+$\",s)))"
   ]
  },
  {
   "cell_type": "markdown",
   "id": "1d191cb7",
   "metadata": {},
   "source": [
    "Validating Phone Numbers"
   ]
  },
  {
   "cell_type": "code",
   "execution_count": null,
   "id": "93dcc87c",
   "metadata": {},
   "outputs": [],
   "source": [
    "# Enter your code here. Read input from STDIN. Print output to STDOUT\n",
    "import re\n",
    "n=int(input())\n",
    "pattern=re.compile(\"^[789]\\d{9}$\")\n",
    "for _ in range(n):\n",
    "    s=input()\n",
    "    if pattern.search(s):\n",
    "        print(\"YES\")\n",
    "    else:\n",
    "        print(\"NO\")"
   ]
  },
  {
   "cell_type": "markdown",
   "id": "bccb138a",
   "metadata": {},
   "source": [
    "Group(), Groups() & Groupdict()"
   ]
  },
  {
   "cell_type": "code",
   "execution_count": null,
   "id": "5f5e886a",
   "metadata": {},
   "outputs": [],
   "source": [
    "import re\n",
    "m = re.search(r'([a-zA-Z0-9])\\1+', input())\n",
    "if m:\n",
    "    print(m.group(1)) \n",
    "else:\n",
    "    print(-1) "
   ]
  },
  {
   "cell_type": "markdown",
   "id": "dd3196a3",
   "metadata": {},
   "source": [
    "Re.start() & Re.end() (I consulted Hackerrank discussion section)"
   ]
  },
  {
   "cell_type": "code",
   "execution_count": null,
   "id": "ff6f4e4d",
   "metadata": {},
   "outputs": [],
   "source": [
    "# Enter your code here. Read input from STDIN. Print output to STDOUT\n",
    "import re\n",
    "string1=input()\n",
    "string2=input()\n",
    "pattern=re.compile(string2)\n",
    "match=pattern.search(string1)\n",
    "if not match: \n",
    "    print('(-1, -1)')\n",
    "while match:\n",
    "    print('({0}, {1})'.format(match.start(), match.end() - 1))\n",
    "    match=pattern.search(string1, match.start() + 1)"
   ]
  },
  {
   "cell_type": "markdown",
   "id": "940e776f",
   "metadata": {},
   "source": [
    "Validating Roman Numerals (I consulted Hackerrank discussion section)"
   ]
  },
  {
   "cell_type": "code",
   "execution_count": null,
   "id": "1f482eda",
   "metadata": {},
   "outputs": [],
   "source": [
    "import re\n",
    "regex_pattern = '^(?=[MDCLXVI])M{0,3}(CM|CD|D?C{0,3})(XC|XL|L?X{0,3})(IX|IV|V?I{0,3})$'\n",
    "\n",
    "import re\n",
    "print(str(bool(re.match(regex_pattern, input()))))"
   ]
  },
  {
   "cell_type": "markdown",
   "id": "862bfd5a",
   "metadata": {},
   "source": [
    "Validating and Parsing Email Addresses"
   ]
  },
  {
   "cell_type": "code",
   "execution_count": null,
   "id": "234df663",
   "metadata": {},
   "outputs": [],
   "source": [
    "# Enter your code here. Read input from STDIN. Print output to STDOUT\n",
    "import re\n",
    "n=int(input())\n",
    "for i in range(n): \n",
    "    line=input()\n",
    "    name,email=line.split(' ')\n",
    "    pattern=\"<[a-z][a-zA-Z0-9\\-\\.\\_]+@[a-zA-Z]+\\.[a-zA-Z]{1,3}>\"\n",
    "    if re.match(pattern,email):\n",
    "        print (name,email)"
   ]
  },
  {
   "cell_type": "markdown",
   "id": "86faee6b",
   "metadata": {},
   "source": [
    "HTML Parser - Part 1"
   ]
  },
  {
   "cell_type": "code",
   "execution_count": null,
   "id": "ae384b37",
   "metadata": {},
   "outputs": [],
   "source": [
    "# Enter your code here. Read input from STDIN. Print output to STDOUT\n",
    "from html.parser import HTMLParser\n",
    "\n",
    "\n",
    "class MyHTMLParser(HTMLParser):\n",
    "    def handle_starttag(self, tag, attrs):\n",
    "        print ('Start :', tag)\n",
    "        for ele in attrs:\n",
    "            print ('->', ele[0], '>', ele[1])\n",
    "\n",
    "    def handle_endtag(self, tag):\n",
    "        print ('End   :', tag)\n",
    "\n",
    "    def handle_startendtag(self, tag, attrs):\n",
    "        print ('Empty :', tag)\n",
    "        for ele in attrs:\n",
    "            print ('->', ele[0], '>', ele[1])\n",
    "\n",
    "\n",
    "parser = MyHTMLParser()\n",
    "for _ in range(int(input())):\n",
    "    parser.feed(input())"
   ]
  },
  {
   "cell_type": "markdown",
   "id": "764001bf",
   "metadata": {},
   "source": [
    "HTML Parser-Part 2 (I consulted Hackerrank discussion section)"
   ]
  },
  {
   "cell_type": "code",
   "execution_count": null,
   "id": "54b9eae9",
   "metadata": {},
   "outputs": [],
   "source": [
    "from html.parser import HTMLParser\n",
    "\n",
    "class MyHTMLParser(HTMLParser):\n",
    "     def handle_comment(self, data):\n",
    "        if (len(data.split('\\n')) != 1):\n",
    "            print(\">>> Multi-line Comment\")\n",
    "        else:\n",
    "            print(\">>> Single-line Comment\")\n",
    "        print(data.replace(\"\\r\", \"\\n\"))\n",
    "    def handle_data(self, data):\n",
    "        if data.strip():\n",
    "            print(\">>> Data\")\n",
    "            print(data)\n",
    "  \n",
    "  \n",
    " \n",
    "  \n",
    "html = \"\"       \n",
    "for i in range(int(input())):\n",
    "    html += input().rstrip()\n",
    "    html += '\\n'\n",
    "    \n",
    "parser = MyHTMLParser()\n",
    "parser.feed(html)\n",
    "parser.close()"
   ]
  },
  {
   "cell_type": "markdown",
   "id": "af13bd4a",
   "metadata": {},
   "source": [
    "XML"
   ]
  },
  {
   "cell_type": "markdown",
   "id": "695914e1",
   "metadata": {},
   "source": [
    "XML1 - Find the Score"
   ]
  },
  {
   "cell_type": "code",
   "execution_count": null,
   "id": "3fcf42f0",
   "metadata": {},
   "outputs": [],
   "source": [
    "import sys\n",
    "import xml.etree.ElementTree as etree\n",
    "\n",
    "def get_attr_number(node):\n",
    "    return len(node.attrib) + sum(get_attr_number(child) for child in node);\n",
    "\n",
    "if __name__ == '__main__':\n",
    "    sys.stdin.readline()\n",
    "    xml = sys.stdin.read()\n",
    "    tree = etree.ElementTree(etree.fromstring(xml))\n",
    "    root = tree.getroot()\n",
    "    print(get_attr_number(root))"
   ]
  },
  {
   "cell_type": "markdown",
   "id": "0b45fc67",
   "metadata": {},
   "source": [
    "Closures and Decorators"
   ]
  },
  {
   "cell_type": "markdown",
   "id": "b607052a",
   "metadata": {},
   "source": [
    "Standardize Mobile Numbers Using Decorators (I consulted Hackerrank discussion section)"
   ]
  },
  {
   "cell_type": "code",
   "execution_count": null,
   "id": "23436d34",
   "metadata": {},
   "outputs": [],
   "source": [
    "def wrapper(f):\n",
    "    def fun(l):\n",
    "        f(['+91 ' + i[-10:-5] + ' ' + i[-5:] for i in l])\n",
    "    return fun\n",
    "\n",
    "@wrapper\n",
    "def sort_phone(l):\n",
    "    print(*sorted(l), sep='\\n')\n",
    "\n",
    "if __name__ == '__main__':\n",
    "    l = [input() for _ in range(int(input()))]\n",
    "    sort_phone(l) "
   ]
  },
  {
   "cell_type": "markdown",
   "id": "f33f8424",
   "metadata": {},
   "source": [
    "Decorators 2 - Name Directory (Success in 7/10 test cases)"
   ]
  },
  {
   "cell_type": "code",
   "execution_count": null,
   "id": "2307ccad",
   "metadata": {},
   "outputs": [],
   "source": [
    "import operator\n",
    "\n",
    "def person_lister(f):\n",
    "    def inner(people):\n",
    "        people.sort(key=operator.itemgetter(2))\n",
    "        return [f(person) for person in people]\n",
    "            \n",
    "    return inner\n",
    "\n",
    "@person_lister\n",
    "def name_format(person):\n",
    "    return (\"Mr. \" if person[3] == \"M\" else \"Ms. \") + person[0] + \" \" + person[1]\n",
    "\n",
    "if __name__ == '__main__':\n",
    "    people = [input().split() for i in range(int(input()))]\n",
    "    print(*name_format(people), sep='\\n')"
   ]
  },
  {
   "cell_type": "markdown",
   "id": "aae196b2",
   "metadata": {},
   "source": [
    "Numpy"
   ]
  },
  {
   "cell_type": "markdown",
   "id": "4d21efee",
   "metadata": {},
   "source": [
    "Arrays"
   ]
  },
  {
   "cell_type": "code",
   "execution_count": null,
   "id": "8dbbdf0c",
   "metadata": {},
   "outputs": [],
   "source": [
    "def arrays(arr):\n",
    "    a=numpy.array(arr, float)\n",
    "    f=numpy.flip(a)\n",
    "    return(f)"
   ]
  },
  {
   "cell_type": "markdown",
   "id": "fb366273",
   "metadata": {},
   "source": [
    "Shape and Reshape"
   ]
  },
  {
   "cell_type": "code",
   "execution_count": null,
   "id": "91278fc6",
   "metadata": {},
   "outputs": [],
   "source": [
    "import numpy\n",
    "l= list(map(int, input().split()))\n",
    "a=numpy.array(l)\n",
    "b=numpy.reshape(a, (3,3))\n",
    "print(b)"
   ]
  },
  {
   "cell_type": "markdown",
   "id": "b773fff3",
   "metadata": {},
   "source": [
    "Transpose and Flatten"
   ]
  },
  {
   "cell_type": "code",
   "execution_count": null,
   "id": "74b6005a",
   "metadata": {},
   "outputs": [],
   "source": [
    "import numpy\n",
    "n, m= map(int, input().split())\n",
    "arr= numpy.array([input().split() for _ in range(n)], int)\n",
    "print(numpy.transpose(arr))\n",
    "print(arr.flatten())"
   ]
  },
  {
   "cell_type": "markdown",
   "id": "b6371fa6",
   "metadata": {},
   "source": [
    "Concatenate"
   ]
  },
  {
   "cell_type": "code",
   "execution_count": null,
   "id": "17fe36eb",
   "metadata": {},
   "outputs": [],
   "source": [
    "import numpy\n",
    "n, m, p=map(int, input().split())\n",
    "arr_1=numpy.array([input().split() for _ in range(n)], int)\n",
    "arr_2=numpy.array([input().split() for _ in range(m)], int)\n",
    "print(numpy.concatenate((arr_1, arr_2), axis=0))"
   ]
  },
  {
   "cell_type": "markdown",
   "id": "0ee8cffb",
   "metadata": {},
   "source": [
    "Zeros and Ones"
   ]
  },
  {
   "cell_type": "code",
   "execution_count": null,
   "id": "ebeb2576",
   "metadata": {},
   "outputs": [],
   "source": [
    "import numpy\n",
    "n=list(map(int, input().split()))\n",
    "print(numpy.zeros(n, int))\n",
    "print(numpy.ones(n, int))"
   ]
  },
  {
   "cell_type": "markdown",
   "id": "8d41a87b",
   "metadata": {},
   "source": [
    "Eye and Identity"
   ]
  },
  {
   "cell_type": "code",
   "execution_count": null,
   "id": "fb03e81a",
   "metadata": {},
   "outputs": [],
   "source": [
    "import numpy\n",
    "numpy.set_printoptions(legacy='1.13')\n",
    "n, m= map(int, input().split())\n",
    "print(numpy.eye(n,m))"
   ]
  },
  {
   "cell_type": "markdown",
   "id": "b8baa164",
   "metadata": {},
   "source": [
    "Array Mathematics"
   ]
  },
  {
   "cell_type": "code",
   "execution_count": null,
   "id": "e4b476be",
   "metadata": {},
   "outputs": [],
   "source": [
    "import numpy\n",
    "n, m=map(int, input().split())\n",
    "a= numpy.array([input().split() for _ in range(n)], int)\n",
    "b= numpy.array([input().split() for _ in range(n)], int)\n",
    "print(numpy.add(a, b))\n",
    "print(numpy.subtract(a, b))\n",
    "print(numpy.multiply(a, b))\n",
    "print(numpy.floor_divide(a, b))\n",
    "print(numpy.mod(a, b))\n",
    "print(numpy.power(a, b))"
   ]
  },
  {
   "cell_type": "markdown",
   "id": "2ba164c3",
   "metadata": {},
   "source": [
    "Floor, Ceil and Rint"
   ]
  },
  {
   "cell_type": "code",
   "execution_count": null,
   "id": "26fd83ba",
   "metadata": {},
   "outputs": [],
   "source": [
    "import numpy\n",
    "numpy.set_printoptions(legacy='1.13')\n",
    "arr=numpy.array(input().split(), float)\n",
    "print(numpy.floor(arr))\n",
    "print(numpy.ceil(arr))\n",
    "print(numpy.rint(arr))"
   ]
  },
  {
   "cell_type": "markdown",
   "id": "f26648e7",
   "metadata": {},
   "source": [
    "Sum and Prod"
   ]
  },
  {
   "cell_type": "code",
   "execution_count": null,
   "id": "8ebc5a9c",
   "metadata": {},
   "outputs": [],
   "source": [
    "import numpy\n",
    "n, m=map(int, input().split())\n",
    "arr=numpy.array([input().split() for _ in range(n)], int)\n",
    "s=numpy.sum(arr, axis=0)\n",
    "print(numpy.prod(s))"
   ]
  },
  {
   "cell_type": "markdown",
   "id": "14767e4a",
   "metadata": {},
   "source": [
    "Min and Max"
   ]
  },
  {
   "cell_type": "code",
   "execution_count": null,
   "id": "8e216177",
   "metadata": {},
   "outputs": [],
   "source": [
    "import numpy\n",
    "n, m =map (int, input().split())\n",
    "a= numpy.array([input().split() for _ in range(n)], int)\n",
    "b=numpy.min(a, axis = 1)\n",
    "arr=numpy.array(b)\n",
    "c=numpy.max(arr)\n",
    "print(c)"
   ]
  },
  {
   "cell_type": "markdown",
   "id": "d08c2609",
   "metadata": {},
   "source": [
    "Mean, Var, and Std"
   ]
  },
  {
   "cell_type": "code",
   "execution_count": null,
   "id": "c3dfcc06",
   "metadata": {},
   "outputs": [],
   "source": [
    "import numpy\n",
    "n, m=map(int, input().split())\n",
    "arr= numpy.array([input().split() for _ in range(n)], int)\n",
    "print(numpy.mean(arr, axis = 1))\n",
    "print(numpy.var(arr, axis = 0))\n",
    "a=round(numpy.std(arr), 11)\n",
    "print(a)"
   ]
  },
  {
   "cell_type": "markdown",
   "id": "1056989a",
   "metadata": {},
   "source": [
    "Dot and Cross"
   ]
  },
  {
   "cell_type": "code",
   "execution_count": null,
   "id": "9fef237d",
   "metadata": {},
   "outputs": [],
   "source": [
    "import numpy\n",
    "n=int(input())\n",
    "a= numpy.array([input().split() for _ in range(n)], int)\n",
    "b= numpy.array([input().split() for _ in range(n)], int)\n",
    "print(numpy.dot(a,b))"
   ]
  },
  {
   "cell_type": "markdown",
   "id": "df1a2dff",
   "metadata": {},
   "source": [
    "Inner and Outer"
   ]
  },
  {
   "cell_type": "code",
   "execution_count": null,
   "id": "367d3972",
   "metadata": {},
   "outputs": [],
   "source": [
    "import numpy\n",
    "a= numpy.array(input().split(), int)\n",
    "b= numpy.array(input().split(), int)\n",
    "print(numpy.inner(a,b))\n",
    "print(numpy.outer(a,b))"
   ]
  },
  {
   "cell_type": "markdown",
   "id": "bb4e1c50",
   "metadata": {},
   "source": [
    "Polynomials"
   ]
  },
  {
   "cell_type": "code",
   "execution_count": null,
   "id": "91b80a0f",
   "metadata": {},
   "outputs": [],
   "source": [
    "import numpy\n",
    "c=list(map(float, input().split()))\n",
    "x=int(input())\n",
    "print(float(numpy.polyval(c, x)))"
   ]
  },
  {
   "cell_type": "markdown",
   "id": "35c51461",
   "metadata": {},
   "source": [
    "Linear Algebra"
   ]
  },
  {
   "cell_type": "code",
   "execution_count": null,
   "id": "365462ed",
   "metadata": {},
   "outputs": [],
   "source": [
    "import numpy\n",
    "n=int(input())\n",
    "a=numpy.array([input().split() for _ in range(n)], float)\n",
    "print(round(numpy.linalg.det(a), 2))"
   ]
  },
  {
   "cell_type": "markdown",
   "id": "9dd0dbd6",
   "metadata": {},
   "source": [
    "Hackerrank Challenges"
   ]
  },
  {
   "cell_type": "markdown",
   "id": "c0d0fa32",
   "metadata": {},
   "source": [
    "Birthday Cake Candles"
   ]
  },
  {
   "cell_type": "code",
   "execution_count": null,
   "id": "dc5e94bf",
   "metadata": {},
   "outputs": [],
   "source": [
    "#!/bin/python3\n",
    "\n",
    "import math\n",
    "import os\n",
    "import random\n",
    "import re\n",
    "import sys\n",
    "\n",
    "#\n",
    "# Complete the 'birthdayCakeCandles' function below.\n",
    "#\n",
    "# The function is expected to return an INTEGER.\n",
    "# The function accepts INTEGER_ARRAY candles as parameter.\n",
    "#\n",
    "\n",
    "def birthdayCakeCandles(candles):\n",
    "    m=max(candles)\n",
    "    return(candles.count(m))\n",
    "\n",
    "if __name__ == '__main__':\n",
    "    fptr = open(os.environ['OUTPUT_PATH'], 'w')\n",
    "\n",
    "    candles_count = int(input().strip())\n",
    "\n",
    "    candles = list(map(int, input().rstrip().split()))\n",
    "\n",
    "    result = birthdayCakeCandles(candles)\n",
    "\n",
    "    fptr.write(str(result) + '\\n')\n",
    "\n",
    "    fptr.close()"
   ]
  },
  {
   "cell_type": "markdown",
   "id": "dc2963e9",
   "metadata": {},
   "source": [
    "Number Line Jumps (Kangaroo)"
   ]
  },
  {
   "cell_type": "code",
   "execution_count": null,
   "id": "b9584ade",
   "metadata": {},
   "outputs": [],
   "source": [
    "#!/bin/python3\n",
    "\n",
    "import math\n",
    "import os\n",
    "import random\n",
    "import re\n",
    "import sys\n",
    "\n",
    "#\n",
    "# Complete the 'kangaroo' function below.\n",
    "#\n",
    "# The function is expected to return a STRING.\n",
    "# The function accepts following parameters:\n",
    "#  1. INTEGER x1\n",
    "#  2. INTEGER v1\n",
    "#  3. INTEGER x2\n",
    "#  4. INTEGER v2\n",
    "#\n",
    "\n",
    "def kangaroo(x1, v1, x2, v2):\n",
    "    a=\"NO\"\n",
    "    if x1<x2 and v1<v2:\n",
    "        a==\"NO\"\n",
    "    elif x1>x2 and v2>v1:\n",
    "        a=\"NO\"\n",
    "    elif (x2-x1)%(v2-v1)==0 and v2-v1!=0:\n",
    "        a=\"YES\"\n",
    "    return(a)\n",
    "        \n",
    "    \n",
    "\n",
    "if __name__ == '__main__':\n",
    "    fptr = open(os.environ['OUTPUT_PATH'], 'w')\n",
    "\n",
    "    first_multiple_input = input().rstrip().split()\n",
    "\n",
    "    x1 = int(first_multiple_input[0])\n",
    "\n",
    "    v1 = int(first_multiple_input[1])\n",
    "\n",
    "    x2 = int(first_multiple_input[2])\n",
    "\n",
    "    v2 = int(first_multiple_input[3])\n",
    "\n",
    "    result = kangaroo(x1, v1, x2, v2)\n",
    "\n",
    "    fptr.write(result + '\\n')\n",
    "\n",
    "    fptr.close()"
   ]
  },
  {
   "cell_type": "markdown",
   "id": "58185a0b",
   "metadata": {},
   "source": [
    "Recursive Digit Sum (Success in 8/12 test cases due to memory error)"
   ]
  },
  {
   "cell_type": "code",
   "execution_count": null,
   "id": "a1f7c2ac",
   "metadata": {},
   "outputs": [],
   "source": [
    "#!/bin/python3\n",
    "\n",
    "import math\n",
    "import os\n",
    "import random\n",
    "import re\n",
    "import sys\n",
    "\n",
    "#\n",
    "# Complete the 'superDigit' function below.\n",
    "#\n",
    "# The function is expected to return an INTEGER.\n",
    "# The function accepts following parameters:\n",
    "#  1. STRING n\n",
    "#  2. INTEGER k\n",
    "#\n",
    "\n",
    "def superDigit(n, k):\n",
    "    n=k*n\n",
    "    n=list(map(int,n))\n",
    "    if len(n)!=1:\n",
    "        s=sum(n)\n",
    "        s=str(s)\n",
    "        n=superDigit(s,1)\n",
    "    else:\n",
    "        n=str(n[0])\n",
    "    return (n)\n",
    "            \n",
    "\n",
    "if __name__ == '__main__':\n",
    "    fptr = open(os.environ['OUTPUT_PATH'], 'w')\n",
    "\n",
    "    first_multiple_input = input().rstrip().split()\n",
    "\n",
    "    n = first_multiple_input[0]\n",
    "\n",
    "    k = int(first_multiple_input[1])\n",
    "\n",
    "    result = superDigit(n, k)\n",
    "\n",
    "    fptr.write(str(result) + '\\n')\n",
    "\n",
    "    fptr.close()\n"
   ]
  },
  {
   "cell_type": "markdown",
   "id": "abf06a96",
   "metadata": {},
   "source": [
    "Viral Advertising (Strange Advertising)"
   ]
  },
  {
   "cell_type": "code",
   "execution_count": null,
   "id": "a5fe9cd8",
   "metadata": {},
   "outputs": [],
   "source": [
    "#!/bin/python3\n",
    "\n",
    "import math\n",
    "import os\n",
    "import random\n",
    "import re\n",
    "import sys\n",
    "\n",
    "#\n",
    "# Complete the 'viralAdvertising' function below.\n",
    "#\n",
    "# The function is expected to return an INTEGER.\n",
    "# The function accepts INTEGER n as parameter.\n",
    "#\n",
    "#x=2+\n",
    "def viralAdvertising(n):\n",
    "    li=2\n",
    "    r=6\n",
    "    c=2\n",
    "    for _ in range(n-1):\n",
    "        r=li*3\n",
    "        li=r//2\n",
    "        c+=li\n",
    "    return c\n",
    "        \n",
    "        \n",
    "        \n",
    "        \n",
    "if __name__ == '__main__':\n",
    "    fptr = open(os.environ['OUTPUT_PATH'], 'w')\n",
    "\n",
    "    n = int(input().strip())\n",
    "\n",
    "    result = viralAdvertising(n)\n",
    "\n",
    "    fptr.write(str(result) + '\\n')\n",
    "\n",
    "    fptr.close()"
   ]
  },
  {
   "cell_type": "markdown",
   "id": "342fef2d",
   "metadata": {},
   "source": [
    "Insertion Sort - Part1"
   ]
  },
  {
   "cell_type": "code",
   "execution_count": null,
   "id": "4501af7c",
   "metadata": {},
   "outputs": [],
   "source": [
    "#!/bin/python3\n",
    "\n",
    "import math\n",
    "import os\n",
    "import random\n",
    "import re\n",
    "import sys\n",
    "\n",
    "#\n",
    "# Complete the 'insertionSort1' function below.\n",
    "#\n",
    "# The function accepts following parameters:\n",
    "#  1. INTEGER n\n",
    "#  2. INTEGER_ARRAY arr\n",
    "#\n",
    "\n",
    "def insertionSort1(n, arr):\n",
    "    v=arr[n-1]\n",
    "    i=n-2\n",
    "    while(i>=0 and arr[i]>v):\n",
    "        arr[i+1]=arr[i]\n",
    "        i=i-1\n",
    "        a=\" \".join(map(str, arr))\n",
    "        print(a)\n",
    "    arr[i+1]=v\n",
    "    a=\" \".join(map(str, arr))\n",
    "    print(a)   \n",
    "if __name__ == '__main__':\n",
    "    n = int(input().strip())\n",
    "\n",
    "    arr = list(map(int, input().rstrip().split()))\n",
    "\n",
    "    insertionSort1(n, arr)"
   ]
  },
  {
   "cell_type": "markdown",
   "id": "dd08c9a6",
   "metadata": {},
   "source": [
    "Insertion Sort - Part2"
   ]
  },
  {
   "cell_type": "code",
   "execution_count": null,
   "id": "bda9a5b5",
   "metadata": {},
   "outputs": [],
   "source": [
    "#!/bin/python3\n",
    "\n",
    "import math\n",
    "import os\n",
    "import random\n",
    "import re\n",
    "import sys\n",
    "\n",
    "#\n",
    "# Complete the 'insertionSort2' function below.\n",
    "#\n",
    "# The function accepts following parameters:\n",
    "#  1. INTEGER n\n",
    "#  2. INTEGER_ARRAY arr\n",
    "#\n",
    "\n",
    "def insertionSort2(n, arr):\n",
    "    for j in range(1, n):\n",
    "        v=arr[j]\n",
    "        i=j-1\n",
    "        while(i>=0 and arr[i]>v):\n",
    "            arr[i+1]=arr[i]\n",
    "            i=i-1\n",
    "        arr[i+1]=v\n",
    "        a=\" \".join(map(str, arr))\n",
    "        print(a)\n",
    "\n",
    "if __name__ == '__main__':\n",
    "    n = int(input().strip())\n",
    "\n",
    "    arr = list(map(int, input().rstrip().split()))\n",
    "\n",
    "    insertionSort2(n, arr)\n"
   ]
  }
 ],
 "metadata": {
  "kernelspec": {
   "display_name": "Python 3",
   "language": "python",
   "name": "python3"
  },
  "language_info": {
   "codemirror_mode": {
    "name": "ipython",
    "version": 3
   },
   "file_extension": ".py",
   "mimetype": "text/x-python",
   "name": "python",
   "nbconvert_exporter": "python",
   "pygments_lexer": "ipython3",
   "version": "3.8.8"
  }
 },
 "nbformat": 4,
 "nbformat_minor": 5
}
